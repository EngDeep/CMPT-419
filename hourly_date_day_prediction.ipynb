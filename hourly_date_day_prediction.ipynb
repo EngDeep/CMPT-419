{
  "nbformat": 4,
  "nbformat_minor": 0,
  "metadata": {
    "colab": {
      "name": "hourly_date_day_prediction.ipynb",
      "provenance": [],
      "collapsed_sections": []
    },
    "kernelspec": {
      "name": "python3",
      "display_name": "Python 3"
    }
  },
  "cells": [
    {
      "cell_type": "code",
      "metadata": {
        "id": "JAFWu48oXEyo",
        "colab_type": "code",
        "colab": {
          "base_uri": "https://localhost:8080/",
          "height": 217
        },
        "outputId": "b3744548-c6e3-4217-8869-ffc71154673c"
      },
      "source": [
        "# Import required Libraries\n",
        "!pip install fastparquet\n",
        "import math\n",
        "import pandas_datareader as web\n",
        "import numpy as np \n",
        "import pandas as pd\n",
        "from sklearn.preprocessing import MinMaxScaler\n",
        "from tensorflow.keras.models import Sequential \n",
        "from tensorflow.keras.layers import Dense, LSTM\n",
        "import matplotlib.pyplot as plt\n",
        "import datetime"
      ],
      "execution_count": 182,
      "outputs": [
        {
          "output_type": "stream",
          "text": [
            "Requirement already satisfied: fastparquet in /usr/local/lib/python3.6/dist-packages (0.3.3)\n",
            "Requirement already satisfied: thrift>=0.11.0 in /usr/local/lib/python3.6/dist-packages (from fastparquet) (0.13.0)\n",
            "Requirement already satisfied: numpy>=1.11 in /usr/local/lib/python3.6/dist-packages (from fastparquet) (1.18.2)\n",
            "Requirement already satisfied: six in /usr/local/lib/python3.6/dist-packages (from fastparquet) (1.12.0)\n",
            "Requirement already satisfied: numba>=0.28 in /usr/local/lib/python3.6/dist-packages (from fastparquet) (0.48.0)\n",
            "Requirement already satisfied: pandas>=0.19 in /usr/local/lib/python3.6/dist-packages (from fastparquet) (1.0.3)\n",
            "Requirement already satisfied: setuptools in /usr/local/lib/python3.6/dist-packages (from numba>=0.28->fastparquet) (46.1.3)\n",
            "Requirement already satisfied: llvmlite<0.32.0,>=0.31.0dev0 in /usr/local/lib/python3.6/dist-packages (from numba>=0.28->fastparquet) (0.31.0)\n",
            "Requirement already satisfied: pytz>=2017.2 in /usr/local/lib/python3.6/dist-packages (from pandas>=0.19->fastparquet) (2018.9)\n",
            "Requirement already satisfied: python-dateutil>=2.6.1 in /usr/local/lib/python3.6/dist-packages (from pandas>=0.19->fastparquet) (2.8.1)\n"
          ],
          "name": "stdout"
        }
      ]
    },
    {
      "cell_type": "code",
      "metadata": {
        "id": "iv6b1wZvXsXT",
        "colab_type": "code",
        "colab": {}
      },
      "source": [
        "data = pd.read_parquet('https://github.com/ddkpham/Stock_Prediction_NLP_ML/blob/master/wsb.hourly.joined.parquet.gz?raw=true', engine=\"fastparquet\")"
      ],
      "execution_count": 0,
      "outputs": []
    },
    {
      "cell_type": "code",
      "metadata": {
        "id": "19UAmo8DXzrZ",
        "colab_type": "code",
        "colab": {
          "base_uri": "https://localhost:8080/",
          "height": 309
        },
        "outputId": "c2c2a3b5-0743-40ea-b51a-12b9b3a198be"
      },
      "source": [
        "dataset = data.set_index('created_utc')\n",
        "dataset = dataset.values\n",
        "data.tail(5)"
      ],
      "execution_count": 183,
      "outputs": [
        {
          "output_type": "execute_result",
          "data": {
            "text/html": [
              "<div>\n",
              "<style scoped>\n",
              "    .dataframe tbody tr th:only-of-type {\n",
              "        vertical-align: middle;\n",
              "    }\n",
              "\n",
              "    .dataframe tbody tr th {\n",
              "        vertical-align: top;\n",
              "    }\n",
              "\n",
              "    .dataframe thead th {\n",
              "        text-align: right;\n",
              "    }\n",
              "</style>\n",
              "<table border=\"1\" class=\"dataframe\">\n",
              "  <thead>\n",
              "    <tr style=\"text-align: right;\">\n",
              "      <th></th>\n",
              "      <th>created_utc</th>\n",
              "      <th>score</th>\n",
              "      <th>gilded</th>\n",
              "      <th>wordcount</th>\n",
              "      <th>0</th>\n",
              "      <th>1</th>\n",
              "      <th>2</th>\n",
              "      <th>3</th>\n",
              "      <th>4</th>\n",
              "      <th>5</th>\n",
              "      <th>6</th>\n",
              "      <th>7</th>\n",
              "      <th>8</th>\n",
              "      <th>9</th>\n",
              "      <th>10</th>\n",
              "      <th>11</th>\n",
              "      <th>12</th>\n",
              "      <th>13</th>\n",
              "      <th>14</th>\n",
              "      <th>15</th>\n",
              "      <th>16</th>\n",
              "      <th>17</th>\n",
              "      <th>18</th>\n",
              "      <th>19</th>\n",
              "      <th>20</th>\n",
              "      <th>21</th>\n",
              "      <th>22</th>\n",
              "      <th>23</th>\n",
              "      <th>24</th>\n",
              "      <th>AAPL_StockPrice</th>\n",
              "      <th>AMZN_StockPrice</th>\n",
              "      <th>BA_StockPrice</th>\n",
              "      <th>SPY_StockPrice</th>\n",
              "      <th>TSLA_StockPrice</th>\n",
              "    </tr>\n",
              "  </thead>\n",
              "  <tbody>\n",
              "    <tr>\n",
              "      <th>17017</th>\n",
              "      <td>2019-10-31 19:00:00</td>\n",
              "      <td>9.854762</td>\n",
              "      <td>0.000000</td>\n",
              "      <td>19.720238</td>\n",
              "      <td>-0.015871</td>\n",
              "      <td>0.088306</td>\n",
              "      <td>-0.011564</td>\n",
              "      <td>-0.014938</td>\n",
              "      <td>-0.038733</td>\n",
              "      <td>-0.023130</td>\n",
              "      <td>0.154235</td>\n",
              "      <td>-0.081725</td>\n",
              "      <td>-0.021721</td>\n",
              "      <td>-0.005306</td>\n",
              "      <td>-0.040358</td>\n",
              "      <td>0.062018</td>\n",
              "      <td>-0.684138</td>\n",
              "      <td>-0.025796</td>\n",
              "      <td>0.038119</td>\n",
              "      <td>0.023374</td>\n",
              "      <td>0.053640</td>\n",
              "      <td>-0.049039</td>\n",
              "      <td>-0.002019</td>\n",
              "      <td>-0.022662</td>\n",
              "      <td>0.000548</td>\n",
              "      <td>0.025454</td>\n",
              "      <td>0.035070</td>\n",
              "      <td>0.027902</td>\n",
              "      <td>-0.053098</td>\n",
              "      <td>248.56</td>\n",
              "      <td>1776.99</td>\n",
              "      <td>340.09</td>\n",
              "      <td>303.20</td>\n",
              "      <td>314.6</td>\n",
              "    </tr>\n",
              "    <tr>\n",
              "      <th>17018</th>\n",
              "      <td>2019-10-31 20:00:00</td>\n",
              "      <td>7.543249</td>\n",
              "      <td>0.000000</td>\n",
              "      <td>16.218354</td>\n",
              "      <td>-0.014352</td>\n",
              "      <td>0.084513</td>\n",
              "      <td>-0.007887</td>\n",
              "      <td>-0.016645</td>\n",
              "      <td>-0.036200</td>\n",
              "      <td>-0.021342</td>\n",
              "      <td>0.154608</td>\n",
              "      <td>-0.078857</td>\n",
              "      <td>-0.026559</td>\n",
              "      <td>-0.003333</td>\n",
              "      <td>-0.039675</td>\n",
              "      <td>0.063693</td>\n",
              "      <td>-0.675505</td>\n",
              "      <td>-0.024968</td>\n",
              "      <td>0.045586</td>\n",
              "      <td>0.027612</td>\n",
              "      <td>0.050561</td>\n",
              "      <td>-0.041637</td>\n",
              "      <td>0.000699</td>\n",
              "      <td>-0.019423</td>\n",
              "      <td>0.003253</td>\n",
              "      <td>0.018703</td>\n",
              "      <td>0.032161</td>\n",
              "      <td>0.033941</td>\n",
              "      <td>-0.055375</td>\n",
              "      <td>248.56</td>\n",
              "      <td>1776.99</td>\n",
              "      <td>340.09</td>\n",
              "      <td>303.33</td>\n",
              "      <td>314.6</td>\n",
              "    </tr>\n",
              "    <tr>\n",
              "      <th>17019</th>\n",
              "      <td>2019-10-31 21:00:00</td>\n",
              "      <td>7.101476</td>\n",
              "      <td>0.001845</td>\n",
              "      <td>17.429889</td>\n",
              "      <td>-0.015376</td>\n",
              "      <td>0.092038</td>\n",
              "      <td>-0.022579</td>\n",
              "      <td>-0.000384</td>\n",
              "      <td>-0.039674</td>\n",
              "      <td>-0.033292</td>\n",
              "      <td>0.145958</td>\n",
              "      <td>-0.073718</td>\n",
              "      <td>-0.023163</td>\n",
              "      <td>0.003552</td>\n",
              "      <td>-0.036160</td>\n",
              "      <td>0.064825</td>\n",
              "      <td>-0.636240</td>\n",
              "      <td>-0.032800</td>\n",
              "      <td>0.044508</td>\n",
              "      <td>0.030280</td>\n",
              "      <td>0.046661</td>\n",
              "      <td>-0.032616</td>\n",
              "      <td>0.008074</td>\n",
              "      <td>-0.011401</td>\n",
              "      <td>0.011551</td>\n",
              "      <td>0.017010</td>\n",
              "      <td>0.040372</td>\n",
              "      <td>0.032420</td>\n",
              "      <td>-0.060353</td>\n",
              "      <td>248.56</td>\n",
              "      <td>1776.99</td>\n",
              "      <td>340.09</td>\n",
              "      <td>303.33</td>\n",
              "      <td>314.6</td>\n",
              "    </tr>\n",
              "    <tr>\n",
              "      <th>17020</th>\n",
              "      <td>2019-10-31 22:00:00</td>\n",
              "      <td>6.611227</td>\n",
              "      <td>0.000000</td>\n",
              "      <td>16.299376</td>\n",
              "      <td>-0.016740</td>\n",
              "      <td>0.088693</td>\n",
              "      <td>-0.011643</td>\n",
              "      <td>-0.014845</td>\n",
              "      <td>-0.033719</td>\n",
              "      <td>-0.025900</td>\n",
              "      <td>0.155192</td>\n",
              "      <td>-0.082462</td>\n",
              "      <td>-0.025542</td>\n",
              "      <td>-0.010772</td>\n",
              "      <td>-0.044407</td>\n",
              "      <td>0.060708</td>\n",
              "      <td>-0.658886</td>\n",
              "      <td>-0.033341</td>\n",
              "      <td>0.044305</td>\n",
              "      <td>0.028699</td>\n",
              "      <td>0.049924</td>\n",
              "      <td>-0.048469</td>\n",
              "      <td>0.002733</td>\n",
              "      <td>-0.016644</td>\n",
              "      <td>0.002730</td>\n",
              "      <td>0.023538</td>\n",
              "      <td>0.034770</td>\n",
              "      <td>0.034311</td>\n",
              "      <td>-0.053850</td>\n",
              "      <td>248.56</td>\n",
              "      <td>1776.99</td>\n",
              "      <td>340.09</td>\n",
              "      <td>303.33</td>\n",
              "      <td>314.6</td>\n",
              "    </tr>\n",
              "    <tr>\n",
              "      <th>17021</th>\n",
              "      <td>2019-10-31 23:00:00</td>\n",
              "      <td>4.513410</td>\n",
              "      <td>0.000000</td>\n",
              "      <td>14.492337</td>\n",
              "      <td>-0.005759</td>\n",
              "      <td>0.097412</td>\n",
              "      <td>-0.042368</td>\n",
              "      <td>0.008516</td>\n",
              "      <td>-0.042094</td>\n",
              "      <td>-0.027694</td>\n",
              "      <td>0.139947</td>\n",
              "      <td>-0.056377</td>\n",
              "      <td>-0.025076</td>\n",
              "      <td>0.016040</td>\n",
              "      <td>-0.034431</td>\n",
              "      <td>0.066261</td>\n",
              "      <td>-0.582691</td>\n",
              "      <td>-0.036126</td>\n",
              "      <td>0.046025</td>\n",
              "      <td>0.039163</td>\n",
              "      <td>0.035854</td>\n",
              "      <td>-0.022578</td>\n",
              "      <td>0.008534</td>\n",
              "      <td>0.010553</td>\n",
              "      <td>0.029844</td>\n",
              "      <td>-0.008701</td>\n",
              "      <td>0.045263</td>\n",
              "      <td>0.042516</td>\n",
              "      <td>-0.052322</td>\n",
              "      <td>248.56</td>\n",
              "      <td>1776.99</td>\n",
              "      <td>340.09</td>\n",
              "      <td>303.33</td>\n",
              "      <td>314.6</td>\n",
              "    </tr>\n",
              "  </tbody>\n",
              "</table>\n",
              "</div>"
            ],
            "text/plain": [
              "              created_utc     score  ...  SPY_StockPrice  TSLA_StockPrice\n",
              "17017 2019-10-31 19:00:00  9.854762  ...          303.20            314.6\n",
              "17018 2019-10-31 20:00:00  7.543249  ...          303.33            314.6\n",
              "17019 2019-10-31 21:00:00  7.101476  ...          303.33            314.6\n",
              "17020 2019-10-31 22:00:00  6.611227  ...          303.33            314.6\n",
              "17021 2019-10-31 23:00:00  4.513410  ...          303.33            314.6\n",
              "\n",
              "[5 rows x 34 columns]"
            ]
          },
          "metadata": {
            "tags": []
          },
          "execution_count": 183
        }
      ]
    },
    {
      "cell_type": "code",
      "metadata": {
        "id": "Q3VZOkwfX1qR",
        "colab_type": "code",
        "colab": {
          "base_uri": "https://localhost:8080/",
          "height": 35
        },
        "outputId": "82f763ec-689b-4cdd-b07f-553120da83cb"
      },
      "source": [
        "opening_price = data.filter(['created_utc','AAPL_StockPrice', 'AMZN_StockPrice', \n",
        "                                              'BA_StockPrice', 'SPY_StockPrice', 'TSLA_StockPrice'])\n",
        "# Opening hour prices for stocks\n",
        "opening_dataset = opening_price.set_index('created_utc')\n",
        "opening_dataset = opening_dataset.resample('D').first().dropna(how='any')\n",
        "opening_dataset = opening_dataset.values\n",
        "print(len(opening_dataset))\n"
      ],
      "execution_count": 184,
      "outputs": [
        {
          "output_type": "stream",
          "text": [
            "713\n"
          ],
          "name": "stdout"
        }
      ]
    },
    {
      "cell_type": "code",
      "metadata": {
        "id": "9pj7VBO6YFmL",
        "colab_type": "code",
        "colab": {
          "base_uri": "https://localhost:8080/",
          "height": 71
        },
        "outputId": "19a22fc5-4bdb-4827-e76c-f98fff8658ea"
      },
      "source": [
        "# set training set len\n",
        "training_data_len = math.ceil(len(dataset) * 0.8)\n",
        "training_data_len\n",
        "hours = data.filter(['created_utc'])\n",
        "hours = opening_hour['created_utc']\n",
        "print(training_data_len)\n",
        "\n",
        "# adjust training length to the end of a day since it may fall in the middle of a day\n",
        "while(hours[training_data_len].hour != 0):\n",
        "  training_data_len = training_data_len +1\n",
        "print(training_data_len)\n",
        "hours[training_data_len]"
      ],
      "execution_count": 185,
      "outputs": [
        {
          "output_type": "stream",
          "text": [
            "13618\n",
            "13638\n"
          ],
          "name": "stdout"
        },
        {
          "output_type": "execute_result",
          "data": {
            "text/plain": [
              "Timestamp('2019-04-12 00:00:00')"
            ]
          },
          "metadata": {
            "tags": []
          },
          "execution_count": 185
        }
      ]
    },
    {
      "cell_type": "code",
      "metadata": {
        "id": "AE2xD91yhbrE",
        "colab_type": "code",
        "colab": {
          "base_uri": "https://localhost:8080/",
          "height": 251
        },
        "outputId": "aded8a1c-99a2-45fd-ee71-cbf92d09c94e"
      },
      "source": [
        "scaler = MinMaxScaler(feature_range=(0,1))\n",
        "openScaler = MinMaxScaler(feature_range=(0,1))\n",
        "\n",
        "scaled_dataset = scaler.fit_transform(dataset)\n",
        "\n",
        "scaled_open_prices = openScaler.fit_transform(opening_dataset)\n",
        "scaled_open_prices"
      ],
      "execution_count": 186,
      "outputs": [
        {
          "output_type": "execute_result",
          "data": {
            "text/plain": [
              "array([[7.51032670e-05, 3.16376784e-03, 0.00000000e+00, 0.00000000e+00,\n",
              "        1.69553372e-01],\n",
              "       [4.50619602e-04, 0.00000000e+00, 4.51017411e-03, 4.79313824e-03,\n",
              "        1.60795952e-01],\n",
              "       [0.00000000e+00, 2.41568481e-03, 1.02790015e-02, 2.16952573e-02,\n",
              "        2.29639000e-01],\n",
              "       ...,\n",
              "       [1.00000000e+00, 7.97604576e-01, 6.46877841e-01, 9.89404642e-01,\n",
              "        7.20832928e-01],\n",
              "       [9.60045062e-01, 7.86406708e-01, 6.72225718e-01, 9.88269425e-01,\n",
              "        6.57438941e-01],\n",
              "       [9.92790086e-01, 8.03098311e-01, 6.68170058e-01, 1.00000000e+00,\n",
              "        6.59871558e-01]])"
            ]
          },
          "metadata": {
            "tags": []
          },
          "execution_count": 186
        }
      ]
    },
    {
      "cell_type": "code",
      "metadata": {
        "id": "N6FfNa3hh2xZ",
        "colab_type": "code",
        "colab": {
          "base_uri": "https://localhost:8080/",
          "height": 53
        },
        "outputId": "2c1c6c05-d801-4d85-bbd7-9d1192c34210"
      },
      "source": [
        "# Split date into x_train, y_train \n",
        "train_xvals = scaled_dataset[0:training_data_len, :]\n",
        "\n",
        "# to check date of current row \n",
        "dates = data['created_utc']\n",
        "t_data = data[data['created_utc'] < dates[training_data_len]]\n",
        "training_days = t_data['created_utc'].dt.date.unique()\n",
        "\n",
        "print(len(training_days))\n",
        "print(training_days[-1]) # verify this is the correct date. Should be before the date in hours[training_data_len]\n",
        "\n"
      ],
      "execution_count": 187,
      "outputs": [
        {
          "output_type": "stream",
          "text": [
            "572\n",
            "2019-04-11\n"
          ],
          "name": "stdout"
        }
      ]
    },
    {
      "cell_type": "code",
      "metadata": {
        "id": "JxTWplMUEZjI",
        "colab_type": "code",
        "colab": {
          "base_uri": "https://localhost:8080/",
          "height": 73
        },
        "outputId": "1015e907-6367-4e61-ad39-b75d11cef8b3"
      },
      "source": [
        "x_train = []\n",
        "y_train = []\n",
        "i = 0\n",
        "num_hours_in_day = 24\n",
        "for idx in range(0,len(training_days)):\n",
        "  time_step = []\n",
        "  # last day in the list \n",
        "  if idx == len(training_days) - 1:\n",
        "    while(i < training_data_len):\n",
        "      hourly_data = train_xvals[i:i+1, :][0]\n",
        "      time_step.append(hourly_data)\n",
        "      i = i + 1\n",
        "    while(len(time_step) < num_hours_in_day):\n",
        "      filler = np.zeros(len(hourly_data))\n",
        "      time_step.append(filler)\n",
        "  else:\n",
        "    # next_date = training_days['created_utc'][idx + 1]\n",
        "    next_date = training_days[idx + 1]\n",
        "    while(next_date > dates[i]):\n",
        "    # day matches \n",
        "      hourly_data = train_xvals[i:i+1, :][0]\n",
        "      time_step.append(hourly_data)\n",
        "      i = i + 1\n",
        "    # if there isnt a full 24 hours in set \n",
        "    while(len(time_step) < num_hours_in_day):\n",
        "      filler = np.zeros(len(hourly_data))\n",
        "      time_step.append(filler)\n",
        "  time_step = np.array(time_step)\n",
        "  \n",
        "  time_step = np.reshape(time_step, (24,33))\n",
        "  x_train.append(time_step)\n",
        "  y_train.append(scaled_open_prices[idx+1].tolist())\n",
        "  test_start_index = idx + 1\n",
        "  if(idx < 2):\n",
        "    print(y_train)\n",
        "    # print('time_step',idx, time_step)\n"
      ],
      "execution_count": 188,
      "outputs": [
        {
          "output_type": "stream",
          "text": [
            "[[0.00045061960195269535, 0.0, 0.004510174113698251, 0.004793138244197692, 0.16079595212610687]]\n",
            "[[0.00045061960195269535, 0.0, 0.004510174113698251, 0.004793138244197692, 0.16079595212610687], [0.0, 0.002415684807680285, 0.01027900146842875, 0.021695257315842653, 0.2296389997080861]]\n"
          ],
          "name": "stdout"
        }
      ]
    },
    {
      "cell_type": "code",
      "metadata": {
        "id": "3sbR3dt-ni8d",
        "colab_type": "code",
        "colab": {
          "base_uri": "https://localhost:8080/",
          "height": 35
        },
        "outputId": "5e1760d1-b5ce-4fb6-b156-02f4dd3defff"
      },
      "source": [
        "# Convert both x, y training sets to np array \n",
        "x_train, y_train = np.array(x_train), np.array(y_train)\n",
        "# Reshape the data // LSTM network expects 3 dimensional input in the form of \n",
        "# (number of samples, number of timesteps, number of features)\n",
        "x_train = np.reshape(x_train, (x_train.shape[0], x_train.shape[1], 33))\n",
        "x_train.shape"
      ],
      "execution_count": 189,
      "outputs": [
        {
          "output_type": "execute_result",
          "data": {
            "text/plain": [
              "(572, 24, 33)"
            ]
          },
          "metadata": {
            "tags": []
          },
          "execution_count": 189
        }
      ]
    },
    {
      "cell_type": "code",
      "metadata": {
        "id": "wwJCHUIg1jK0",
        "colab_type": "code",
        "colab": {}
      },
      "source": [
        "# Declare the LSTM model architecture \n",
        "model = Sequential()\n",
        "\n",
        "# Add layers , input shape expected is (number of timesteps, number of features)\n",
        "model.add(LSTM(75, return_sequences=True, input_shape=(x_train.shape[1], 33)))\n",
        "model.add(LSTM(50, return_sequences=False))\n",
        "model.add(Dense(25))\n",
        "model.add(Dense(5))"
      ],
      "execution_count": 0,
      "outputs": []
    },
    {
      "cell_type": "code",
      "metadata": {
        "id": "y7ACjXteIOYz",
        "colab_type": "code",
        "colab": {}
      },
      "source": [
        "# Compile Model \n",
        "model.compile(optimizer='adam', loss='mean_squared_error')"
      ],
      "execution_count": 0,
      "outputs": []
    },
    {
      "cell_type": "code",
      "metadata": {
        "id": "caO-SaAWIQ7h",
        "colab_type": "code",
        "colab": {
          "base_uri": "https://localhost:8080/",
          "height": 1000
        },
        "outputId": "5de463ca-6b80-4391-d5aa-6525678e8654"
      },
      "source": [
        "# Train the model \n",
        "model.fit(x_train, y_train, batch_size=16, epochs=100)"
      ],
      "execution_count": 192,
      "outputs": [
        {
          "output_type": "stream",
          "text": [
            "Epoch 1/100\n",
            "36/36 [==============================] - 1s 20ms/step - loss: 0.0730\n",
            "Epoch 2/100\n",
            "36/36 [==============================] - 1s 20ms/step - loss: 0.0085\n",
            "Epoch 3/100\n",
            "36/36 [==============================] - 1s 20ms/step - loss: 0.0043\n",
            "Epoch 4/100\n",
            "36/36 [==============================] - 1s 20ms/step - loss: 0.0030\n",
            "Epoch 5/100\n",
            "36/36 [==============================] - 1s 21ms/step - loss: 0.0023\n",
            "Epoch 6/100\n",
            "36/36 [==============================] - 1s 20ms/step - loss: 0.0019\n",
            "Epoch 7/100\n",
            "36/36 [==============================] - 1s 21ms/step - loss: 0.0014\n",
            "Epoch 8/100\n",
            "36/36 [==============================] - 1s 20ms/step - loss: 0.0011\n",
            "Epoch 9/100\n",
            "36/36 [==============================] - 1s 21ms/step - loss: 9.3027e-04\n",
            "Epoch 10/100\n",
            "36/36 [==============================] - 1s 20ms/step - loss: 8.4752e-04\n",
            "Epoch 11/100\n",
            "36/36 [==============================] - 1s 21ms/step - loss: 8.7465e-04\n",
            "Epoch 12/100\n",
            "36/36 [==============================] - 1s 21ms/step - loss: 7.5612e-04\n",
            "Epoch 13/100\n",
            "36/36 [==============================] - 1s 20ms/step - loss: 7.1084e-04\n",
            "Epoch 14/100\n",
            "36/36 [==============================] - 1s 20ms/step - loss: 5.9929e-04\n",
            "Epoch 15/100\n",
            "36/36 [==============================] - 1s 21ms/step - loss: 4.8141e-04\n",
            "Epoch 16/100\n",
            "36/36 [==============================] - 1s 21ms/step - loss: 3.9539e-04\n",
            "Epoch 17/100\n",
            "36/36 [==============================] - 1s 21ms/step - loss: 4.7653e-04\n",
            "Epoch 18/100\n",
            "36/36 [==============================] - 1s 21ms/step - loss: 3.6948e-04\n",
            "Epoch 19/100\n",
            "36/36 [==============================] - 1s 21ms/step - loss: 3.5551e-04\n",
            "Epoch 20/100\n",
            "36/36 [==============================] - 1s 21ms/step - loss: 3.1041e-04\n",
            "Epoch 21/100\n",
            "36/36 [==============================] - 1s 21ms/step - loss: 3.3281e-04\n",
            "Epoch 22/100\n",
            "36/36 [==============================] - 1s 21ms/step - loss: 2.9059e-04\n",
            "Epoch 23/100\n",
            "36/36 [==============================] - 1s 21ms/step - loss: 2.8210e-04\n",
            "Epoch 24/100\n",
            "36/36 [==============================] - 1s 22ms/step - loss: 3.6065e-04\n",
            "Epoch 25/100\n",
            "36/36 [==============================] - 1s 21ms/step - loss: 3.3522e-04\n",
            "Epoch 26/100\n",
            "36/36 [==============================] - 1s 21ms/step - loss: 2.4806e-04\n",
            "Epoch 27/100\n",
            "36/36 [==============================] - 1s 21ms/step - loss: 3.0423e-04\n",
            "Epoch 28/100\n",
            "36/36 [==============================] - 1s 21ms/step - loss: 2.2292e-04\n",
            "Epoch 29/100\n",
            "36/36 [==============================] - 1s 21ms/step - loss: 2.4689e-04\n",
            "Epoch 30/100\n",
            "36/36 [==============================] - 1s 21ms/step - loss: 2.7114e-04\n",
            "Epoch 31/100\n",
            "36/36 [==============================] - 1s 21ms/step - loss: 2.2325e-04\n",
            "Epoch 32/100\n",
            "36/36 [==============================] - 1s 22ms/step - loss: 1.9318e-04\n",
            "Epoch 33/100\n",
            "36/36 [==============================] - 1s 22ms/step - loss: 1.6938e-04\n",
            "Epoch 34/100\n",
            "36/36 [==============================] - 1s 21ms/step - loss: 2.0708e-04\n",
            "Epoch 35/100\n",
            "36/36 [==============================] - 1s 21ms/step - loss: 2.0592e-04\n",
            "Epoch 36/100\n",
            "36/36 [==============================] - 1s 21ms/step - loss: 2.0822e-04\n",
            "Epoch 37/100\n",
            "36/36 [==============================] - 1s 22ms/step - loss: 2.5299e-04\n",
            "Epoch 38/100\n",
            "36/36 [==============================] - 1s 21ms/step - loss: 1.9122e-04\n",
            "Epoch 39/100\n",
            "36/36 [==============================] - 1s 21ms/step - loss: 1.7287e-04\n",
            "Epoch 40/100\n",
            "36/36 [==============================] - 1s 21ms/step - loss: 2.0796e-04\n",
            "Epoch 41/100\n",
            "36/36 [==============================] - 1s 21ms/step - loss: 2.1166e-04\n",
            "Epoch 42/100\n",
            "36/36 [==============================] - 1s 21ms/step - loss: 1.9843e-04\n",
            "Epoch 43/100\n",
            "36/36 [==============================] - 1s 21ms/step - loss: 1.4000e-04\n",
            "Epoch 44/100\n",
            "36/36 [==============================] - 1s 21ms/step - loss: 1.7206e-04\n",
            "Epoch 45/100\n",
            "36/36 [==============================] - 1s 21ms/step - loss: 1.8045e-04\n",
            "Epoch 46/100\n",
            "36/36 [==============================] - 1s 21ms/step - loss: 1.7917e-04\n",
            "Epoch 47/100\n",
            "36/36 [==============================] - 1s 21ms/step - loss: 1.2630e-04\n",
            "Epoch 48/100\n",
            "36/36 [==============================] - 1s 21ms/step - loss: 1.4909e-04\n",
            "Epoch 49/100\n",
            "36/36 [==============================] - 1s 21ms/step - loss: 1.6427e-04\n",
            "Epoch 50/100\n",
            "36/36 [==============================] - 1s 21ms/step - loss: 1.5629e-04\n",
            "Epoch 51/100\n",
            "36/36 [==============================] - 1s 21ms/step - loss: 1.8017e-04\n",
            "Epoch 52/100\n",
            "36/36 [==============================] - 1s 21ms/step - loss: 2.2004e-04\n",
            "Epoch 53/100\n",
            "36/36 [==============================] - 1s 21ms/step - loss: 1.3973e-04\n",
            "Epoch 54/100\n",
            "36/36 [==============================] - 1s 21ms/step - loss: 1.5273e-04\n",
            "Epoch 55/100\n",
            "36/36 [==============================] - 1s 21ms/step - loss: 1.4970e-04\n",
            "Epoch 56/100\n",
            "36/36 [==============================] - 1s 21ms/step - loss: 1.3935e-04\n",
            "Epoch 57/100\n",
            "36/36 [==============================] - 1s 21ms/step - loss: 1.4189e-04\n",
            "Epoch 58/100\n",
            "36/36 [==============================] - 1s 21ms/step - loss: 1.1025e-04\n",
            "Epoch 59/100\n",
            "36/36 [==============================] - 1s 21ms/step - loss: 1.3690e-04\n",
            "Epoch 60/100\n",
            "36/36 [==============================] - 1s 21ms/step - loss: 1.2999e-04\n",
            "Epoch 61/100\n",
            "36/36 [==============================] - 1s 21ms/step - loss: 1.2894e-04\n",
            "Epoch 62/100\n",
            "36/36 [==============================] - 1s 21ms/step - loss: 1.2759e-04\n",
            "Epoch 63/100\n",
            "36/36 [==============================] - 1s 22ms/step - loss: 1.2342e-04\n",
            "Epoch 64/100\n",
            "36/36 [==============================] - 1s 21ms/step - loss: 9.1267e-05\n",
            "Epoch 65/100\n",
            "36/36 [==============================] - 1s 21ms/step - loss: 1.1372e-04\n",
            "Epoch 66/100\n",
            "36/36 [==============================] - 1s 21ms/step - loss: 1.3066e-04\n",
            "Epoch 67/100\n",
            "36/36 [==============================] - 1s 21ms/step - loss: 1.4653e-04\n",
            "Epoch 68/100\n",
            "36/36 [==============================] - 1s 21ms/step - loss: 1.0686e-04\n",
            "Epoch 69/100\n",
            "36/36 [==============================] - 1s 21ms/step - loss: 1.0411e-04\n",
            "Epoch 70/100\n",
            "36/36 [==============================] - 1s 21ms/step - loss: 9.1680e-05\n",
            "Epoch 71/100\n",
            "36/36 [==============================] - 1s 21ms/step - loss: 9.3477e-05\n",
            "Epoch 72/100\n",
            "36/36 [==============================] - 1s 21ms/step - loss: 1.2112e-04\n",
            "Epoch 73/100\n",
            "36/36 [==============================] - 1s 21ms/step - loss: 1.1376e-04\n",
            "Epoch 74/100\n",
            "36/36 [==============================] - 1s 21ms/step - loss: 1.1478e-04\n",
            "Epoch 75/100\n",
            "36/36 [==============================] - 1s 21ms/step - loss: 1.4000e-04\n",
            "Epoch 76/100\n",
            "36/36 [==============================] - 1s 21ms/step - loss: 1.1733e-04\n",
            "Epoch 77/100\n",
            "36/36 [==============================] - 1s 21ms/step - loss: 1.0979e-04\n",
            "Epoch 78/100\n",
            "36/36 [==============================] - 1s 21ms/step - loss: 1.6509e-04\n",
            "Epoch 79/100\n",
            "36/36 [==============================] - 1s 21ms/step - loss: 1.1090e-04\n",
            "Epoch 80/100\n",
            "36/36 [==============================] - 1s 21ms/step - loss: 9.7089e-05\n",
            "Epoch 81/100\n",
            "36/36 [==============================] - 1s 20ms/step - loss: 9.8486e-05\n",
            "Epoch 82/100\n",
            "36/36 [==============================] - 1s 21ms/step - loss: 8.5649e-05\n",
            "Epoch 83/100\n",
            "36/36 [==============================] - 1s 21ms/step - loss: 1.0738e-04\n",
            "Epoch 84/100\n",
            "36/36 [==============================] - 1s 21ms/step - loss: 1.4512e-04\n",
            "Epoch 85/100\n",
            "36/36 [==============================] - 1s 20ms/step - loss: 1.1812e-04\n",
            "Epoch 86/100\n",
            "36/36 [==============================] - 1s 21ms/step - loss: 1.2189e-04\n",
            "Epoch 87/100\n",
            "36/36 [==============================] - 1s 21ms/step - loss: 1.2790e-04\n",
            "Epoch 88/100\n",
            "36/36 [==============================] - 1s 21ms/step - loss: 1.4012e-04\n",
            "Epoch 89/100\n",
            "36/36 [==============================] - 1s 21ms/step - loss: 1.0641e-04\n",
            "Epoch 90/100\n",
            "36/36 [==============================] - 1s 21ms/step - loss: 7.3280e-05\n",
            "Epoch 91/100\n",
            "36/36 [==============================] - 1s 21ms/step - loss: 7.5639e-05\n",
            "Epoch 92/100\n",
            "36/36 [==============================] - 1s 22ms/step - loss: 1.0896e-04\n",
            "Epoch 93/100\n",
            "36/36 [==============================] - 1s 21ms/step - loss: 9.9121e-05\n",
            "Epoch 94/100\n",
            "36/36 [==============================] - 1s 21ms/step - loss: 9.7559e-05\n",
            "Epoch 95/100\n",
            "36/36 [==============================] - 1s 21ms/step - loss: 8.3784e-05\n",
            "Epoch 96/100\n",
            "36/36 [==============================] - 1s 21ms/step - loss: 8.1125e-05\n",
            "Epoch 97/100\n",
            "36/36 [==============================] - 1s 21ms/step - loss: 9.0566e-05\n",
            "Epoch 98/100\n",
            "36/36 [==============================] - 1s 21ms/step - loss: 7.4168e-05\n",
            "Epoch 99/100\n",
            "36/36 [==============================] - 1s 21ms/step - loss: 8.5955e-05\n",
            "Epoch 100/100\n",
            "36/36 [==============================] - 1s 21ms/step - loss: 8.5064e-05\n"
          ],
          "name": "stdout"
        },
        {
          "output_type": "execute_result",
          "data": {
            "text/plain": [
              "<tensorflow.python.keras.callbacks.History at 0x7fd5259d2c50>"
            ]
          },
          "metadata": {
            "tags": []
          },
          "execution_count": 192
        }
      ]
    },
    {
      "cell_type": "code",
      "metadata": {
        "id": "BG-4nZEtIRUC",
        "colab_type": "code",
        "colab": {
          "base_uri": "https://localhost:8080/",
          "height": 71
        },
        "outputId": "86135f9c-94be-4641-d611-61f6d57a8a3e"
      },
      "source": [
        "test_x = scaled_dataset[training_data_len - 24:, :]\n",
        "scaled_open_prices_test = scaled_open_prices[len(training_days):, :]\n",
        "print(len(scaled_open_prices_test))\n",
        "print(len(training_days))\n",
        "print(len(scaled_open_prices))\n",
        "\n",
        "stock_dates = data['created_utc']\n",
        "days_after_training = data[data['created_utc'] >= stock_dates[training_data_len]]\n",
        "testing_days = days_after_training['created_utc'].dt.date.unique()\n",
        "test_days = days_after_training.reset_index(drop=True)\n"
      ],
      "execution_count": 193,
      "outputs": [
        {
          "output_type": "stream",
          "text": [
            "141\n",
            "572\n",
            "713\n"
          ],
          "name": "stdout"
        }
      ]
    },
    {
      "cell_type": "code",
      "metadata": {
        "id": "cOxgFswok0do",
        "colab_type": "code",
        "colab": {
          "base_uri": "https://localhost:8080/",
          "height": 1000
        },
        "outputId": "783fca4e-3158-4a4b-df7f-daa521829bc8"
      },
      "source": [
        "x_test = []\n",
        "y_test = []\n",
        "num_hours_in_day = 24\n",
        "i = 0\n",
        "\n",
        "for idx in range(0, len(testing_days)):\n",
        "  time_step = []\n",
        "  if (idx == len(testing_days) -1):\n",
        "    while(i < len(days_after_training) - 24):\n",
        "      hourly_data = test_x[i:i+1,:][0]\n",
        "      time_step.append(hourly_data)\n",
        "      i = i + 1\n",
        "    while(len(time_step) < num_hours_in_day):\n",
        "      filler = np.zeros(len(hourly_data))\n",
        "      time_step.append(filler)\n",
        "  else:\n",
        "    next_date = testing_days[idx]\n",
        "    while(next_date > test_days['created_utc'][i]):\n",
        "      hourly_data = test_x[i:i+1,:][0]\n",
        "      time_step.append(hourly_data)\n",
        "      i = i + 1\n",
        "    while(len(time_step) < num_hours_in_day):\n",
        "      filler = np.zeros(len(hourly_data))\n",
        "      time_step.append(filler)\n",
        "  time_step = np.array(time_step)\n",
        "  time_step = np.reshape(time_step, (24,33))\n",
        "  x_test.append(time_step)\n",
        "  y_test.append(scaled_open_prices_test[idx].tolist())\n",
        "  print('time_step',idx, time_step.shape, len(testing_days) -1)\n",
        "  # if(idx < 2):\n",
        "  #   print('time_step',idx, time_step)\n"
      ],
      "execution_count": 195,
      "outputs": [
        {
          "output_type": "stream",
          "text": [
            "time_step 0 (24, 33) 140\n",
            "time_step 1 (24, 33) 140\n",
            "time_step 2 (24, 33) 140\n",
            "time_step 3 (24, 33) 140\n",
            "time_step 4 (24, 33) 140\n",
            "time_step 5 (24, 33) 140\n",
            "time_step 6 (24, 33) 140\n",
            "time_step 7 (24, 33) 140\n",
            "time_step 8 (24, 33) 140\n",
            "time_step 9 (24, 33) 140\n",
            "time_step 10 (24, 33) 140\n",
            "time_step 11 (24, 33) 140\n",
            "time_step 12 (24, 33) 140\n",
            "time_step 13 (24, 33) 140\n",
            "time_step 14 (24, 33) 140\n",
            "time_step 15 (24, 33) 140\n",
            "time_step 16 (24, 33) 140\n",
            "time_step 17 (24, 33) 140\n",
            "time_step 18 (24, 33) 140\n",
            "time_step 19 (24, 33) 140\n",
            "time_step 20 (24, 33) 140\n",
            "time_step 21 (24, 33) 140\n",
            "time_step 22 (24, 33) 140\n",
            "time_step 23 (24, 33) 140\n",
            "time_step 24 (24, 33) 140\n",
            "time_step 25 (24, 33) 140\n",
            "time_step 26 (24, 33) 140\n",
            "time_step 27 (24, 33) 140\n",
            "time_step 28 (24, 33) 140\n",
            "time_step 29 (24, 33) 140\n",
            "time_step 30 (24, 33) 140\n",
            "time_step 31 (24, 33) 140\n",
            "time_step 32 (24, 33) 140\n",
            "time_step 33 (24, 33) 140\n",
            "time_step 34 (24, 33) 140\n",
            "time_step 35 (24, 33) 140\n",
            "time_step 36 (24, 33) 140\n",
            "time_step 37 (24, 33) 140\n",
            "time_step 38 (24, 33) 140\n",
            "time_step 39 (24, 33) 140\n",
            "time_step 40 (24, 33) 140\n",
            "time_step 41 (24, 33) 140\n",
            "time_step 42 (24, 33) 140\n",
            "time_step 43 (24, 33) 140\n",
            "time_step 44 (24, 33) 140\n",
            "time_step 45 (24, 33) 140\n",
            "time_step 46 (24, 33) 140\n",
            "time_step 47 (24, 33) 140\n",
            "time_step 48 (24, 33) 140\n",
            "time_step 49 (24, 33) 140\n",
            "time_step 50 (24, 33) 140\n",
            "time_step 51 (24, 33) 140\n",
            "time_step 52 (24, 33) 140\n",
            "time_step 53 (24, 33) 140\n",
            "time_step 54 (24, 33) 140\n",
            "time_step 55 (24, 33) 140\n",
            "time_step 56 (24, 33) 140\n",
            "time_step 57 (24, 33) 140\n",
            "time_step 58 (24, 33) 140\n",
            "time_step 59 (24, 33) 140\n",
            "time_step 60 (24, 33) 140\n",
            "time_step 61 (24, 33) 140\n",
            "time_step 62 (24, 33) 140\n",
            "time_step 63 (24, 33) 140\n",
            "time_step 64 (24, 33) 140\n",
            "time_step 65 (24, 33) 140\n",
            "time_step 66 (24, 33) 140\n",
            "time_step 67 (24, 33) 140\n",
            "time_step 68 (24, 33) 140\n",
            "time_step 69 (24, 33) 140\n",
            "time_step 70 (24, 33) 140\n",
            "time_step 71 (24, 33) 140\n",
            "time_step 72 (24, 33) 140\n",
            "time_step 73 (24, 33) 140\n",
            "time_step 74 (24, 33) 140\n",
            "time_step 75 (24, 33) 140\n",
            "time_step 76 (24, 33) 140\n",
            "time_step 77 (24, 33) 140\n",
            "time_step 78 (24, 33) 140\n",
            "time_step 79 (24, 33) 140\n",
            "time_step 80 (24, 33) 140\n",
            "time_step 81 (24, 33) 140\n",
            "time_step 82 (24, 33) 140\n",
            "time_step 83 (24, 33) 140\n",
            "time_step 84 (24, 33) 140\n",
            "time_step 85 (24, 33) 140\n",
            "time_step 86 (24, 33) 140\n",
            "time_step 87 (24, 33) 140\n",
            "time_step 88 (24, 33) 140\n",
            "time_step 89 (24, 33) 140\n",
            "time_step 90 (24, 33) 140\n",
            "time_step 91 (24, 33) 140\n",
            "time_step 92 (24, 33) 140\n",
            "time_step 93 (24, 33) 140\n",
            "time_step 94 (24, 33) 140\n",
            "time_step 95 (24, 33) 140\n",
            "time_step 96 (24, 33) 140\n",
            "time_step 97 (24, 33) 140\n",
            "time_step 98 (24, 33) 140\n",
            "time_step 99 (24, 33) 140\n",
            "time_step 100 (24, 33) 140\n",
            "time_step 101 (24, 33) 140\n",
            "time_step 102 (24, 33) 140\n",
            "time_step 103 (24, 33) 140\n",
            "time_step 104 (24, 33) 140\n",
            "time_step 105 (24, 33) 140\n",
            "time_step 106 (24, 33) 140\n",
            "time_step 107 (24, 33) 140\n",
            "time_step 108 (24, 33) 140\n",
            "time_step 109 (24, 33) 140\n",
            "time_step 110 (24, 33) 140\n",
            "time_step 111 (24, 33) 140\n",
            "time_step 112 (24, 33) 140\n",
            "time_step 113 (24, 33) 140\n",
            "time_step 114 (24, 33) 140\n",
            "time_step 115 (24, 33) 140\n",
            "time_step 116 (24, 33) 140\n",
            "time_step 117 (24, 33) 140\n",
            "time_step 118 (24, 33) 140\n",
            "time_step 119 (24, 33) 140\n",
            "time_step 120 (24, 33) 140\n",
            "time_step 121 (24, 33) 140\n",
            "time_step 122 (24, 33) 140\n",
            "time_step 123 (24, 33) 140\n",
            "time_step 124 (24, 33) 140\n",
            "time_step 125 (24, 33) 140\n",
            "time_step 126 (24, 33) 140\n",
            "time_step 127 (24, 33) 140\n",
            "time_step 128 (24, 33) 140\n",
            "time_step 129 (24, 33) 140\n",
            "time_step 130 (24, 33) 140\n",
            "time_step 131 (24, 33) 140\n",
            "time_step 132 (24, 33) 140\n",
            "time_step 133 (24, 33) 140\n",
            "time_step 134 (24, 33) 140\n",
            "time_step 135 (24, 33) 140\n",
            "time_step 136 (24, 33) 140\n",
            "time_step 137 (24, 33) 140\n",
            "time_step 138 (24, 33) 140\n",
            "time_step 139 (24, 33) 140\n",
            "time_step 140 (24, 33) 140\n"
          ],
          "name": "stdout"
        }
      ]
    },
    {
      "cell_type": "code",
      "metadata": {
        "id": "bfIgJlSll9b4",
        "colab_type": "code",
        "colab": {}
      },
      "source": [
        "# Convert the data into a np array\n",
        "x_test = np.array(x_test)\n",
        "\n",
        "# Reshape data into 3 dimensions ( num samples, timesteps, num features )\n",
        "x_test = np.reshape(x_test, (x_test.shape[0], x_test.shape[1], 33))"
      ],
      "execution_count": 0,
      "outputs": []
    },
    {
      "cell_type": "code",
      "metadata": {
        "id": "bTK6EuL2tHvF",
        "colab_type": "code",
        "colab": {}
      },
      "source": [
        "# Get the models predicted price values \n",
        "predictions = model.predict(x_test)\n",
        "\n",
        "# Inverse transform \n",
        "predictions = openScaler.inverse_transform(predictions)"
      ],
      "execution_count": 0,
      "outputs": []
    },
    {
      "cell_type": "code",
      "metadata": {
        "id": "BcEEjti0tMSU",
        "colab_type": "code",
        "colab": {
          "base_uri": "https://localhost:8080/",
          "height": 35
        },
        "outputId": "057c7188-d0ed-47e6-db73-3f9d01869681"
      },
      "source": [
        "# Evaluate model with root mean square error (RMSE)\n",
        "rmse = np.sqrt(np.mean((predictions-y_test)**2))\n",
        "rmse"
      ],
      "execution_count": 198,
      "outputs": [
        {
          "output_type": "execute_result",
          "data": {
            "text/plain": [
              "855.4882945443273"
            ]
          },
          "metadata": {
            "tags": []
          },
          "execution_count": 198
        }
      ]
    },
    {
      "cell_type": "code",
      "metadata": {
        "id": "jxXmF_3itNqk",
        "colab_type": "code",
        "colab": {
          "base_uri": "https://localhost:8080/",
          "height": 505
        },
        "outputId": "e69e80e6-bbaa-49cc-94bb-e658fca7ea0e"
      },
      "source": [
        "plotData = data.set_index('created_utc')\n",
        "plotData = plotData.resample('D').first().dropna(how='any')\n",
        "plotData\n",
        "# This is so it graphs nicely with dates \n",
        "AAPL = plotData[\"AAPL_StockPrice\"]\n",
        "AAPL = AAPL.to_frame()\n",
        "AMZN = plotData[\"AMZN_StockPrice\"]\n",
        "AMZN = AMZN.to_frame()\n",
        "BA = plotData[\"BA_StockPrice\"]\n",
        "BA = BA.to_frame();\n",
        "SPY = plotData[\"SPY_StockPrice\"]\n",
        "SPY = SPY.to_frame();\n",
        "TSLA = plotData[\"TSLA_StockPrice\"]\n",
        "TSLA = TSLA.to_frame()\n",
        "\n",
        "appleTest = AAPL[0:len(training_days)]\n",
        "amazonTest = AMZN[0:len(training_days)]\n",
        "boeTest = BA[0:len(training_days)]\n",
        "spyTest = SPY[0:len(training_days)]\n",
        "teslaTest = TSLA[0:len(training_days)]\n",
        "\n",
        "appleValid = AAPL[len(training_days):]\n",
        "amazonValid = AMZN[len(training_days):]\n",
        "boeValid = BA[len(training_days):]\n",
        "spyValid = SPY[len(training_days):]\n",
        "teslaValid = TSLA[len(training_days):]\n",
        "# print(appleValid)\n",
        "\n",
        "print(len(appleValid), len(predictions))\n",
        "appleValid['Predictions'] = predictions[:,:1]\n",
        "amazonValid[\"Predictions\"] = predictions[:,1:2]\n",
        "boeValid['Predictions'] = predictions[:, 2:3]\n",
        "spyValid[\"Predictions\"] = predictions[:, 3:4]\n",
        "teslaValid[\"Predictions\"] = predictions[:, 4:5]\n"
      ],
      "execution_count": 199,
      "outputs": [
        {
          "output_type": "stream",
          "text": [
            "141 141\n"
          ],
          "name": "stdout"
        },
        {
          "output_type": "stream",
          "text": [
            "/usr/local/lib/python3.6/dist-packages/ipykernel_launcher.py:30: SettingWithCopyWarning: \n",
            "A value is trying to be set on a copy of a slice from a DataFrame.\n",
            "Try using .loc[row_indexer,col_indexer] = value instead\n",
            "\n",
            "See the caveats in the documentation: https://pandas.pydata.org/pandas-docs/stable/user_guide/indexing.html#returning-a-view-versus-a-copy\n",
            "/usr/local/lib/python3.6/dist-packages/ipykernel_launcher.py:31: SettingWithCopyWarning: \n",
            "A value is trying to be set on a copy of a slice from a DataFrame.\n",
            "Try using .loc[row_indexer,col_indexer] = value instead\n",
            "\n",
            "See the caveats in the documentation: https://pandas.pydata.org/pandas-docs/stable/user_guide/indexing.html#returning-a-view-versus-a-copy\n",
            "/usr/local/lib/python3.6/dist-packages/ipykernel_launcher.py:32: SettingWithCopyWarning: \n",
            "A value is trying to be set on a copy of a slice from a DataFrame.\n",
            "Try using .loc[row_indexer,col_indexer] = value instead\n",
            "\n",
            "See the caveats in the documentation: https://pandas.pydata.org/pandas-docs/stable/user_guide/indexing.html#returning-a-view-versus-a-copy\n",
            "/usr/local/lib/python3.6/dist-packages/ipykernel_launcher.py:33: SettingWithCopyWarning: \n",
            "A value is trying to be set on a copy of a slice from a DataFrame.\n",
            "Try using .loc[row_indexer,col_indexer] = value instead\n",
            "\n",
            "See the caveats in the documentation: https://pandas.pydata.org/pandas-docs/stable/user_guide/indexing.html#returning-a-view-versus-a-copy\n",
            "/usr/local/lib/python3.6/dist-packages/ipykernel_launcher.py:34: SettingWithCopyWarning: \n",
            "A value is trying to be set on a copy of a slice from a DataFrame.\n",
            "Try using .loc[row_indexer,col_indexer] = value instead\n",
            "\n",
            "See the caveats in the documentation: https://pandas.pydata.org/pandas-docs/stable/user_guide/indexing.html#returning-a-view-versus-a-copy\n"
          ],
          "name": "stderr"
        }
      ]
    },
    {
      "cell_type": "code",
      "metadata": {
        "id": "S-2PTuVjtbbG",
        "colab_type": "code",
        "colab": {
          "base_uri": "https://localhost:8080/",
          "height": 536
        },
        "outputId": "533af0c3-b015-4483-a43b-757180198825"
      },
      "source": [
        "# Visualize data\n",
        "plt.figure(figsize=(16,8))\n",
        "plt.title('Next Day Prediction with hourly NLP data \\n (AMZN)')\n",
        "plt.xlabel('Date', fontsize=18)\n",
        "plt.ylabel('Close Price USD ($)', fontsize=18)\n",
        "# plt.plot(appleTest)\n",
        "# plt.plot(appleValid)\n",
        "# plt.plot(appleValid['Predictions'])\n",
        "plt.plot(amazonTest)\n",
        "plt.plot(amazonValid)\n",
        "plt.plot(amazonValid['Predictions'])\n",
        "# plt.plot(boeTest)\n",
        "# plt.plot(boeValid)\n",
        "# plt.plot(boeValid['Predictions'])\n",
        "# plt.plot(spyTest)\n",
        "# plt.plot(spyValid )\n",
        "# plt.plot(spyValid['Predictions'], color='green')\n",
        "# plt.plot(teslaTest)\n",
        "# plt.plot(teslaValid)\n",
        "# plt.plot(teslaValid['Predictions'])\n",
        "plt.legend(['Train', 'Validation', 'Prediction'])\n",
        "plt.show()"
      ],
      "execution_count": 200,
      "outputs": [
        {
          "output_type": "display_data",
          "data": {
            "image/png": "[encoded data removed]",
            "text/plain": [
              "<Figure size 1152x576 with 1 Axes>"
            ]
          },
          "metadata": {
            "tags": [],
            "needs_background": "light"
          }
        }
      ]
    },
    {
      "cell_type": "code",
      "metadata": {
        "id": "px9sr1fC0q6l",
        "colab_type": "code",
        "colab": {}
      },
      "source": [
        ""
      ],
      "execution_count": 0,
      "outputs": []
    }
  ]
}