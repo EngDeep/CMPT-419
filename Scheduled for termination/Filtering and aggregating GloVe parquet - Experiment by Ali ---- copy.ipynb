{
 "cells": [
  {
   "cell_type": "markdown",
   "metadata": {},
   "source": [
    "### Purpose: In order to reduce computational expense, remove rows with <= 5 (Pos/Neg) points"
   ]
  },
  {
   "cell_type": "code",
   "execution_count": 1,
   "metadata": {},
   "outputs": [
    {
     "name": "stdout",
     "output_type": "stream",
     "text": [
      "Requirement already satisfied: fastparquet in c:\\users\\t954349\\anaconda3\\lib\\site-packages (0.4.0)\n",
      "Requirement already satisfied: thrift>=0.11.0 in c:\\users\\t954349\\anaconda3\\lib\\site-packages (from fastparquet) (0.13.0)\n",
      "Requirement already satisfied: six in c:\\users\\t954349\\anaconda3\\lib\\site-packages (from fastparquet) (1.14.0)\n",
      "Requirement already satisfied: numba>=0.28 in c:\\users\\t954349\\anaconda3\\lib\\site-packages (from fastparquet) (0.48.0)\n",
      "Requirement already satisfied: pandas>=0.19 in c:\\users\\t954349\\anaconda3\\lib\\site-packages (from fastparquet) (1.0.1)\n",
      "Requirement already satisfied: numpy>=1.11 in c:\\users\\t954349\\anaconda3\\lib\\site-packages (from fastparquet) (1.18.1)\n",
      "Requirement already satisfied: llvmlite<0.32.0,>=0.31.0dev0 in c:\\users\\t954349\\anaconda3\\lib\\site-packages (from numba>=0.28->fastparquet) (0.31.0)\n",
      "Requirement already satisfied: setuptools in c:\\users\\t954349\\anaconda3\\lib\\site-packages (from numba>=0.28->fastparquet) (45.2.0.post20200210)\n",
      "Requirement already satisfied: pytz>=2017.2 in c:\\users\\t954349\\anaconda3\\lib\\site-packages (from pandas>=0.19->fastparquet) (2019.3)\n",
      "Requirement already satisfied: python-dateutil>=2.6.1 in c:\\users\\t954349\\anaconda3\\lib\\site-packages (from pandas>=0.19->fastparquet) (2.8.1)\n"
     ]
    },
    {
     "name": "stderr",
     "output_type": "stream",
     "text": [
      "C:\\Users\\t954349\\Anaconda3\\lib\\site-packages\\pandas_datareader\\compat\\__init__.py:7: FutureWarning: pandas.util.testing is deprecated. Use the functions in the public API at pandas.testing instead.\n",
      "  from pandas.util.testing import assert_frame_equal\n"
     ]
    }
   ],
   "source": [
    "# Import required Libraries\n",
    "!pip install fastparquet\n",
    "import math\n",
    "import pandas_datareader as web\n",
    "import numpy as np \n",
    "import pandas as pd\n",
    "from sklearn.preprocessing import MinMaxScaler\n",
    "from tensorflow.keras.models import Sequential \n",
    "from tensorflow.keras.layers import Dense, LSTM\n",
    "import matplotlib.pyplot as plt\n",
    "import datetime\n",
    "\n",
    "from IPython.core.interactiveshell import InteractiveShell\n",
    "InteractiveShell.ast_node_interactivity = \"all\"\n",
    "\n",
    "\n",
    "from tensorflow.keras.callbacks import EarlyStopping, ModelCheckpoint, ReduceLROnPlateau\n",
    "from sklearn.model_selection import train_test_split"
   ]
  },
  {
   "cell_type": "code",
   "execution_count": 3,
   "metadata": {},
   "outputs": [],
   "source": [
    "full_parquet = pd.read_parquet('wsb.parquet.gz', engine=\"fastparquet\")\n",
    "full_parquet = full_parquet.set_index('created_utc')"
   ]
  },
  {
   "cell_type": "code",
   "execution_count": null,
   "metadata": {},
   "outputs": [],
   "source": [
    "t = full_parquet.score.abs() > 5\n",
    "full_parquet = full_parquet[t]\n",
    "# t = full_parquet.gilded > 1\n",
    "full_parquet"
   ]
  },
  {
   "cell_type": "code",
   "execution_count": null,
   "metadata": {},
   "outputs": [],
   "source": [
    "full_parquet.drop(['DATE','OPrc','CPrc'], axis=1, inplace=True)\n",
    "full_parquet.head()"
   ]
  },
  {
   "cell_type": "code",
   "execution_count": null,
   "metadata": {},
   "outputs": [],
   "source": [
    "# tmp = full_parquet.resample('H').median()\n",
    "# tmp.shape\n",
    "\n",
    "# tmp.dropna().shape"
   ]
  },
  {
   "cell_type": "code",
   "execution_count": null,
   "metadata": {},
   "outputs": [],
   "source": [
    "tmp = full_parquet.resample('H').mean()\n",
    "tmp.head()"
   ]
  },
  {
   "cell_type": "code",
   "execution_count": null,
   "metadata": {},
   "outputs": [],
   "source": [
    "hour = pd.read_parquet('wsb.hourly.joined.parquet.gz', engine=\"fastparquet\")\n",
    "hour.set_index(\"created_utc\",inplace=True)\n",
    "hour.head(5)"
   ]
  },
  {
   "cell_type": "code",
   "execution_count": null,
   "metadata": {},
   "outputs": [],
   "source": [
    "hour.iloc[:,29:].shape\n",
    "hour.iloc[:,29:].head()"
   ]
  },
  {
   "cell_type": "code",
   "execution_count": null,
   "metadata": {},
   "outputs": [],
   "source": [
    "# temp = pd.DataFrame.merge(tmp,tmp)\n",
    "# temp.shape\n",
    "# temp.head(10)"
   ]
  },
  {
   "cell_type": "code",
   "execution_count": null,
   "metadata": {},
   "outputs": [],
   "source": [
    "# tmp.to_parquet('WSB.hourly.parquet.filtered.median.min.score.5.gzip', compression='gzip')  "
   ]
  },
  {
   "cell_type": "code",
   "execution_count": null,
   "metadata": {},
   "outputs": [],
   "source": [
    "joined = tmp.join(hour.iloc[:,29:], on='created_utc')"
   ]
  },
  {
   "cell_type": "code",
   "execution_count": null,
   "metadata": {},
   "outputs": [],
   "source": [
    "joined.to_parquet('WSB.hourly.parquet.filtered.median.min.score.5.gzip', compression='gzip')  "
   ]
  },
  {
   "cell_type": "code",
   "execution_count": null,
   "metadata": {},
   "outputs": [],
   "source": []
  },
  {
   "cell_type": "code",
   "execution_count": null,
   "metadata": {},
   "outputs": [],
   "source": []
  }
 ],
 "metadata": {
  "kernelspec": {
   "display_name": "Python 3",
   "language": "python",
   "name": "python3"
  },
  "language_info": {
   "codemirror_mode": {
    "name": "ipython",
    "version": 3
   },
   "file_extension": ".py",
   "mimetype": "text/x-python",
   "name": "python",
   "nbconvert_exporter": "python",
   "pygments_lexer": "ipython3",
   "version": "3.7.6"
  }
 },
 "nbformat": 4,
 "nbformat_minor": 2
}
